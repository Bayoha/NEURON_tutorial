{
 "cells": [
  {
   "cell_type": "code",
   "execution_count": 1,
   "metadata": {},
   "outputs": [],
   "source": [
    "from __future__ import division\n",
    "from neuron import h\n",
    "from neuron import gui\n",
    "import matplotlib.pyplot as plt\n",
    "import numpy as np\n",
    "plt.ion()"
   ]
  },
  {
   "cell_type": "markdown",
   "metadata": {},
   "source": [
    "## Create model"
   ]
  },
  {
   "cell_type": "code",
   "execution_count": 2,
   "metadata": {},
   "outputs": [],
   "source": [
    "# create model\n",
    "soma = h.Section(name=\"soma\")\n",
    "soma.L    = 10 # the length of the soma\n",
    "soma.diam = 10 # the diameter of the soma\n",
    "soma.Ra   = 100 # tha axial resistance\n",
    "soma.insert('pas') # add passive properties \n",
    "soma.g_pas = 1/10000 # set the specific membrane to 10000 ohm*cm^2"
   ]
  },
  {
   "cell_type": "markdown",
   "metadata": {},
   "source": [
    "## add active conductances (the channels [mod files] are from Mainen and Sejnowski 1996)"
   ]
  },
  {
   "cell_type": "code",
   "execution_count": 3,
   "metadata": {},
   "outputs": [],
   "source": [
    "soma.insert('kv') # add potassium channel | a mod file\n",
    "soma.gbar_kv = 2000 # set the potassium conductance\n",
    "\n",
    "soma.insert('na') # add sodium channel | a mod file\n",
    "soma.gbar_na = 8000 # set the sodium conductance\n",
    "h.celsius = 30\n"
   ]
  },
  {
   "cell_type": "markdown",
   "metadata": {},
   "source": [
    "## Create Current Clamp and set the variables for the current injection"
   ]
  },
  {
   "cell_type": "code",
   "execution_count": 4,
   "metadata": {},
   "outputs": [],
   "source": [
    "stim = h.IClamp(soma(0.5))\n",
    "stim.delay = 250 # start of the current injection (ms)\n",
    "stim.dur   = 1000 # duration (ms)\n",
    "stim.amp   = 0.007446 # amplitude (nA)"
   ]
  },
  {
   "cell_type": "markdown",
   "metadata": {},
   "source": [
    "# record voltage of soma and injected current and the time"
   ]
  },
  {
   "cell_type": "code",
   "execution_count": 5,
   "metadata": {},
   "outputs": [
    {
     "data": {
      "text/plain": [
       "Vector[5]"
      ]
     },
     "execution_count": 5,
     "metadata": {},
     "output_type": "execute_result"
    }
   ],
   "source": [
    "soma_v = h.Vector()\n",
    "soma_v.record(soma(0.5)._ref_v)\n",
    "\n",
    "stim_current = h.Vector()\n",
    "stim_current.record(stim._ref_i)\n",
    "\n",
    "t = h.Vector()\n",
    "t.record(h._ref_t)"
   ]
  },
  {
   "cell_type": "markdown",
   "metadata": {},
   "source": [
    "# set starting voltage, run time, and run the simulation"
   ]
  },
  {
   "cell_type": "code",
   "execution_count": 6,
   "metadata": {},
   "outputs": [
    {
     "data": {
      "text/plain": [
       "0.0"
      ]
     },
     "execution_count": 6,
     "metadata": {},
     "output_type": "execute_result"
    }
   ],
   "source": [
    "h.tstop = 1500 # set the simulation time\n",
    "h.v_init = -70\n",
    "# run simulation\n",
    "h.run()"
   ]
  },
  {
   "cell_type": "markdown",
   "metadata": {},
   "source": [
    "# plot the injected current and the voltage response"
   ]
  },
  {
   "cell_type": "code",
   "execution_count": 7,
   "metadata": {},
   "outputs": [
    {
     "data": {
      "image/png": "[encoded data removed]",
      "text/plain": [
       "<Figure size 288x216 with 2 Axes>"
      ]
     },
     "metadata": {
      "needs_background": "light"
     },
     "output_type": "display_data"
    }
   ],
   "source": [
    "f, (ax0, ax1) = plt.subplots(2,1, figsize=(4,3), gridspec_kw = {'height_ratios':[3, 1]})\n",
    "ax0.plot(t,soma_v, 'k')\n",
    "ax1.plot(t,stim_current, 'gray')\n",
    "\n",
    "ax0.set_ylabel('Voltage (mV)')\n",
    "ax0.spines['right'].set_visible(False)\n",
    "ax0.spines['top'].set_visible(False)\n",
    "ax0.spines['bottom'].set_visible(False)\n",
    "ax0.get_xaxis().set_visible(False)\n",
    "\n",
    "\n",
    "ax1.plot([50,50],[0.01,0.02],'k')\n",
    "ax1.text(80,0.015,'10pA',va='center')\n",
    "ax1.set_ylabel('I (nA)')\n",
    "ax1.set_xlabel('t (ms)')\n",
    "ax1.spines['right'].set_visible(False)\n",
    "ax1.spines['top'].set_visible(False)\n",
    "ax1.spines['left'].set_visible(False)\n",
    "ax1.get_yaxis().set_visible(False)\n",
    "plt.tight_layout()"
   ]
  },
  {
   "cell_type": "code",
   "execution_count": null,
   "metadata": {},
   "outputs": [],
   "source": []
  }
 ],
 "metadata": {
  "kernelspec": {
   "display_name": "Python 3",
   "language": "python",
   "name": "python3"
  },
  "language_info": {
   "codemirror_mode": {
    "name": "ipython",
    "version": 3
   },
   "file_extension": ".py",
   "mimetype": "text/x-python",
   "name": "python",
   "nbconvert_exporter": "python",
   "pygments_lexer": "ipython3",
   "version": "3.7.4"
  }
 },
 "nbformat": 4,
 "nbformat_minor": 2
}
